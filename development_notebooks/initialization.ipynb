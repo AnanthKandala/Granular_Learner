{
 "cells": [
  {
   "cell_type": "code",
   "execution_count": null,
   "metadata": {},
   "outputs": [],
   "source": [
    "import numpy as np\n",
    "from defaults import *"
   ]
  },
  {
   "cell_type": "code",
   "execution_count": null,
   "metadata": {},
   "outputs": [],
   "source": [
    "r1 = 1\n",
    "r2 = 1.4*r1\n",
    "Lx = 30\n",
    "Ly = 15\n",
    "\n",
    "#place input boundary spheres:\n",
    "boundary_sphere_radius = 1\n",
    "boundary_sphere_gap = 0 # gap between boundary spheres \n",
    "distance_between_spheres = 2*boundary_sphere_radius + boundary_sphere_gap\n",
    "input_node_pos = np.array([[0, a] for a in np.arange(0, Ly, distance_between_spheres)])\n",
    "\n",
    "\n",
    "#place output boundary spheres:\n",
    "boundary_sphere_radius = 1\n",
    "boundary_sphere_gap = 0 # gap between boundary spheres \n",
    "distance_between_spheres = 2*boundary_sphere_radius + boundary_sphere_gap\n",
    "output_node_pos = np.array([[Lx, a] for a in np.arange(0, Ly, distance_between_spheres)])\n",
    "\n",
    "boundary_spheres_locs = np.vstack((input_node_pos, output_node_pos))\n",
    "boundary_sphere_radii = boundary_sphere_radius*np.ones(len(boundary_spheres_locs))\n",
    "boundary_spheres = np.column_stack((boundary_spheres_locs, boundary_sphere_radii))\n",
    "\n",
    "\n",
    "#place interior spheres on a grid:\n",
    "n_spheres = 50\n",
    "d =  0.9*(Lx*Ly/(2*n_spheres))**0.5#(r1 + r2)/1.02\n",
    "print((r1+r2)/d)\n",
    "start = 0.9*boundary_sphere_radius \n",
    "interior_grid = np.mgrid[start:Lx:d, start:Ly:d].reshape(2,-1).T\n",
    "p = 0.6\n",
    "radii = np.random.choice([r1, r2], size=2*n_spheres, p=[1-p, p])\n",
    "selected_indices = np.random.choice(range(len(interior_grid)), size=2*n_spheres, replace=False)\n",
    "inner_sphere_locs = interior_grid[selected_indices]\n",
    "inner_spheres = np.column_stack((inner_sphere_locs, radii))\n",
    "\n",
    "\n"
   ]
  },
  {
   "cell_type": "code",
   "execution_count": 4,
   "metadata": {},
   "outputs": [
    {
     "ename": "IndexError",
     "evalue": "index 2 is out of bounds for axis 0 with size 2",
     "output_type": "error",
     "traceback": [
      "\u001b[0;31m---------------------------------------------------------------------------\u001b[0m",
      "\u001b[0;31mIndexError\u001b[0m                                Traceback (most recent call last)",
      "\u001b[1;32m/orange/physics-dept/an.kandala/Biophysics_projeccts/granular_learner/granular_learner_ananth/development_notebooks/initialization.ipynb Cell 3\u001b[0m line \u001b[0;36m1\n\u001b[1;32m     <a href='vscode-notebook-cell://ssh-remote%2Bhpg/orange/physics-dept/an.kandala/Biophysics_projeccts/granular_learner/granular_learner_ananth/development_notebooks/initialization.ipynb#W4sdnNjb2RlLXJlbW90ZQ%3D%3D?line=13'>14</a>\u001b[0m n_spheres \u001b[39m=\u001b[39m \u001b[39m50\u001b[39m\n\u001b[1;32m     <a href='vscode-notebook-cell://ssh-remote%2Bhpg/orange/physics-dept/an.kandala/Biophysics_projeccts/granular_learner/granular_learner_ananth/development_notebooks/initialization.ipynb#W4sdnNjb2RlLXJlbW90ZQ%3D%3D?line=14'>15</a>\u001b[0m learner \u001b[39m=\u001b[39m Granular_learner(Lx, Ly, inner_radii, boundary_sphere_radius, boundary_sphere_gap)\n\u001b[0;32m---> <a href='vscode-notebook-cell://ssh-remote%2Bhpg/orange/physics-dept/an.kandala/Biophysics_projeccts/granular_learner/granular_learner_ananth/development_notebooks/initialization.ipynb#W4sdnNjb2RlLXJlbW90ZQ%3D%3D?line=15'>16</a>\u001b[0m learner\u001b[39m.\u001b[39;49minitialize(n_spheres, prob)\n",
      "File \u001b[0;32m/orange/physics-dept/an.kandala/Biophysics_projeccts/granular_learner/granular_learner_ananth/granular_learner/initialization.py:30\u001b[0m, in \u001b[0;36mGranular_learner.initialize\u001b[0;34m(self, n_spheres, distribution)\u001b[0m\n\u001b[1;32m     26\u001b[0m \u001b[39m\u001b[39m\u001b[39m'''Initializes the granular learner\u001b[39;00m\n\u001b[1;32m     27\u001b[0m \u001b[39mn_spheres [int]: number of spheres of each kind\u001b[39;00m\n\u001b[1;32m     28\u001b[0m \u001b[39mdistribution [np.array]: probability distribution of the spheres'''\u001b[39;00m\n\u001b[1;32m     29\u001b[0m \u001b[39mself\u001b[39m\u001b[39m.\u001b[39minitialize_boundary_spheres()\n\u001b[0;32m---> 30\u001b[0m \u001b[39mself\u001b[39;49m\u001b[39m.\u001b[39;49minitialize_inner_spheres(n_spheres, distribution)\n",
      "File \u001b[0;32m/orange/physics-dept/an.kandala/Biophysics_projeccts/granular_learner/granular_learner_ananth/granular_learner/initialization.py:57\u001b[0m, in \u001b[0;36mGranular_learner.initialize_inner_spheres\u001b[0;34m(self, n_spheres, distribution)\u001b[0m\n\u001b[1;32m     54\u001b[0m selected_radii \u001b[39m=\u001b[39m np\u001b[39m.\u001b[39mrandom\u001b[39m.\u001b[39mchoice(\u001b[39mself\u001b[39m\u001b[39m.\u001b[39minner_radii, size\u001b[39m=\u001b[39m\u001b[39mlen\u001b[39m(\u001b[39mself\u001b[39m\u001b[39m.\u001b[39minner_radii)\u001b[39m*\u001b[39mn_spheres, p\u001b[39m=\u001b[39mdistribution) \u001b[39m#select the radii\u001b[39;00m\n\u001b[1;32m     56\u001b[0m uti \u001b[39m=\u001b[39m np\u001b[39m.\u001b[39mtriu_indices(\u001b[39mlen\u001b[39m(\u001b[39mself\u001b[39m\u001b[39m.\u001b[39minner_radii)\u001b[39m*\u001b[39mn_spheres, k\u001b[39m=\u001b[39m\u001b[39m1\u001b[39m) \u001b[39m#obtain unique indices of the inner sphere combinations\u001b[39;00m\n\u001b[0;32m---> 57\u001b[0m \u001b[39mself\u001b[39m\u001b[39m.\u001b[39minner_cutoffs \u001b[39m=\u001b[39m \u001b[39mself\u001b[39;49m\u001b[39m.\u001b[39;49minner_radii[uti[\u001b[39m0\u001b[39;49m]] \u001b[39m+\u001b[39m \u001b[39mself\u001b[39m\u001b[39m.\u001b[39minner_radii[uti[\u001b[39m1\u001b[39m]] \u001b[39m#calculate the cutoffs\u001b[39;00m\n\u001b[1;32m     59\u001b[0m selected_indices \u001b[39m=\u001b[39m np\u001b[39m.\u001b[39mrandom\u001b[39m.\u001b[39mchoice(\u001b[39mrange\u001b[39m(\u001b[39mlen\u001b[39m(interior_grid)), size\u001b[39m=\u001b[39m\u001b[39mlen\u001b[39m(\u001b[39mself\u001b[39m\u001b[39m.\u001b[39minner_radii)\u001b[39m*\u001b[39mn_spheres, replace\u001b[39m=\u001b[39m\u001b[39mFalse\u001b[39;00m) \u001b[39m#sample points from the grid\u001b[39;00m\n\u001b[1;32m     60\u001b[0m inner_sphere_locs \u001b[39m=\u001b[39m interior_grid[selected_indices] \u001b[39m#obtain the locations of the inner spheres\u001b[39;00m\n",
      "\u001b[0;31mIndexError\u001b[0m: index 2 is out of bounds for axis 0 with size 2"
     ]
    }
   ],
   "source": [
    "path_granular = '/orange/physics-dept/an.kandala/Biophysics_projeccts/granular_learner/granular_learner_ananth/granular_learner'\n",
    "#append to PATH\n",
    "sys.path.append(path_granular)\n",
    "from initialization import Granular_learner\n",
    "r1 = 1\n",
    "r2 = 1.4*r1\n",
    "Lx = 30\n",
    "Ly = 15\n",
    "inner_radii = [r1, r2]\n",
    "prob = [0.4, 0.6]\n",
    "#place input boundary spheres:\n",
    "boundary_sphere_radius = 1\n",
    "boundary_sphere_gap = 0 # gap between boundary spheres \n",
    "n_spheres = 50\n",
    "learner = Granular_learner(Lx, Ly, inner_radii, boundary_sphere_radius, boundary_sphere_gap)\n",
    "learner.initialize(n_spheres, prob)"
   ]
  },
  {
   "cell_type": "code",
   "execution_count": null,
   "metadata": {},
   "outputs": [],
   "source": [
    "a = np.arange(10)\n",
    "b = np.arange(5)\n",
    "cut_off = a[:, None] + b[None, :]   \n",
    "print(cut_off)"
   ]
  },
  {
   "cell_type": "code",
   "execution_count": 1,
   "metadata": {},
   "outputs": [
    {
     "name": "stdout",
     "output_type": "stream",
     "text": [
      "['/orange/physics-dept/an.kandala/Biophysics_projeccts/granular_learner/granular_learner_ananth/development_notebooks', '/home/an.kandala/.conda/envs/qim_coding_env/lib/python311.zip', '/home/an.kandala/.conda/envs/qim_coding_env/lib/python3.11', '/home/an.kandala/.conda/envs/qim_coding_env/lib/python3.11/lib-dynload', '', '/home/an.kandala/.conda/envs/qim_coding_env/lib/python3.11/site-packages']\n"
     ]
    }
   ],
   "source": [
    "#print the PATH\n",
    "import sys\n",
    "print(sys.path)"
   ]
  }
 ],
 "metadata": {
  "kernelspec": {
   "display_name": "qim_coding_env",
   "language": "python",
   "name": "python3"
  },
  "language_info": {
   "codemirror_mode": {
    "name": "ipython",
    "version": 3
   },
   "file_extension": ".py",
   "mimetype": "text/x-python",
   "name": "python",
   "nbconvert_exporter": "python",
   "pygments_lexer": "ipython3",
   "version": "3.11.6"
  }
 },
 "nbformat": 4,
 "nbformat_minor": 2
}
