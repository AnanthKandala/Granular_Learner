{
 "cells": [
  {
   "cell_type": "code",
   "execution_count": 1,
   "metadata": {},
   "outputs": [],
   "source": [
    "from defaults import *\n",
    "path_granular = '/orange/physics-dept/an.kandala/Biophysics_projeccts/granular_learner/granular_learner_ananth/granular_learner'\n",
    "#append to PATH\n",
    "sys.path.append(path_granular)\n",
    "# from initialization import Granular_learner\n",
    "# from energy_function import total_energy"
   ]
  },
  {
   "cell_type": "code",
   "execution_count": null,
   "metadata": {},
   "outputs": [],
   "source": [
    "r1 = 1\n",
    "r2 = 1.4*r1\n",
    "Lx = 30\n",
    "Ly = 15\n",
    "inner_radii = [r1, r2]\n",
    "prob = [0.4, 0.6]\n",
    "#place input boundary spheres:\n",
    "boundary_sphere_radius = 1\n",
    "boundary_sphere_gap = 0 # gap between boundary spheres \n",
    "n_spheres = 50\n",
    "learner = Granular_learner(Lx, Ly, inner_radii, boundary_sphere_radius, boundary_sphere_gap)\n",
    "learner.initialize(n_spheres, prob)"
   ]
  },
  {
   "cell_type": "code",
   "execution_count": null,
   "metadata": {},
   "outputs": [],
   "source": [
    "a = np.arange(20)\n",
    "b = a\n",
    "a += 4\n",
    "print(b)"
   ]
  },
  {
   "cell_type": "code",
   "execution_count": null,
   "metadata": {},
   "outputs": [],
   "source": [
    "def manual_distances(positions):\n",
    "    \"\"\"Compute the distances between each pair of particles.\n",
    "\n",
    "    Parameters\n",
    "    ----------\n",
    "    positions : ndarray, shape (n_particles, n_dimensions)\n",
    "        The positions of the particles.\n",
    "\n",
    "    Returns\n",
    "    -------\n",
    "    distances : ndarray, shape (n_particles, n_particles)\n",
    "        The distances between each particle pair.\n",
    "    \"\"\"\n",
    "    n_particles, n_dimensions = positions.shape\n",
    "    distances = np.zeros((n_particles, n_particles))\n",
    "    for i in range(n_particles):\n",
    "        for j in range(i + 1, n_particles):\n",
    "            for k in range(n_dimensions):\n",
    "                distances[i, j] += (positions[i, k] - positions[j, k])**2\n",
    "            distances[i, j] = np.sqrt(distances[i, j])\n",
    "            distances[j, i] = distances[i, j]\n",
    "    return distances\n",
    "\n",
    "def vectorized_distances(positions):\n",
    "    \"\"\"Compute the distances between each pair of particles.\n",
    "\n",
    "    Parameters\n",
    "    ----------\n",
    "    positions : ndarray, shape (n_particles, n_dimensions)\n",
    "        The positions of the particles.\n",
    "\n",
    "    Returns\n",
    "    -------\n",
    "    distances : ndarray, shape (n_particles, n_particles)\n",
    "        The distances between each particle pair.\n",
    "    \"\"\"\n",
    "    differences = positions[:, np.newaxis, :] - positions[np.newaxis, :, :]\n",
    "    distances = np.sqrt(np.sum(differences**2, axis=-1))\n",
    "    return distances"
   ]
  },
  {
   "cell_type": "code",
   "execution_count": null,
   "metadata": {},
   "outputs": [],
   "source": [
    "positions = np.random.uniform(size=(1000, 30))\n",
    "radii = np.random.uniform(size=100)\n",
    "\n",
    "# compare the performance of the two functions\n",
    "%timeit manual_distances(positions)\n",
    "%timeit vectorized_distances(positions)\n",
    "\n",
    "  "
   ]
  },
  {
   "cell_type": "code",
   "execution_count": null,
   "metadata": {},
   "outputs": [],
   "source": []
  },
  {
   "cell_type": "code",
   "execution_count": null,
   "metadata": {},
   "outputs": [],
   "source": [
    "a = np.array([[j, 0, -1] for j in range(1,10)])\n",
    "b = np.array([[100, 101, 102], [10, 11, 12]])\n",
    "# pprint(a[:,:,np.newaxis])\n",
    "#calculate the distance between particles in a and b\n",
    "differences = a[:, np.newaxis, :] - b[np.newaxis, :, :]\n",
    "print(differences.shape)\n",
    "print(differences[2,1])\n",
    "# print(differences[:,:,:])\n"
   ]
  },
  {
   "cell_type": "code",
   "execution_count": null,
   "metadata": {},
   "outputs": [],
   "source": [
    "\n",
    "L   = 100       # simulation box dimension\n",
    "N   = 4       # Number of particles\n",
    "dim = 2 \n",
    "r = (np.random.random(size=(N,dim))-0.5)*1.5*L\n",
    "uti = np.triu_indices(N, k=1) \n",
    "print(uti)       \n",
    "dr = r[uti[0]] - r[uti[1]]\n",
    "print(dr)\n",
    "# Minimum image distance of unwrapped dr\n",
    "# dr -= L * np.round(dr/L)\n",
    "\n",
    "print(dr)"
   ]
  },
  {
   "cell_type": "code",
   "execution_count": null,
   "metadata": {},
   "outputs": [],
   "source": [
    "array = np.column_stack((np.arange(0,100), np.arange(0,100)))\n",
    "mask = array == 2\n",
    "print(array[mask])\n",
    "# print(array)\n",
    "print(np.sum(array[mask]))"
   ]
  },
  {
   "cell_type": "code",
   "execution_count": null,
   "metadata": {},
   "outputs": [],
   "source": [
    "a = 10*np.random.uniform(size=(100))\n",
    "L = 1\n",
    "b = a%L\n",
    "print(np.column_stack((a, b)))"
   ]
  },
  {
   "cell_type": "code",
   "execution_count": 26,
   "metadata": {},
   "outputs": [
    {
     "name": "stdout",
     "output_type": "stream",
     "text": [
      "(100, 100, 100)\n",
      "(100, 100, 100)\n"
     ]
    }
   ],
   "source": [
    "a = np.random.uniform(size=(100, 100, 100 ))\n",
    "b = np.column_stack((np.arange(100, 110), np.arange(101, 111)))\n",
    "# a_ext = np.a[:, np.newaxis] \n",
    "print(a.shape)\n",
    "print(a[:,:,:].shape) #a[:,:,0]"
   ]
  },
  {
   "cell_type": "code",
   "execution_count": 3,
   "metadata": {},
   "outputs": [
    {
     "name": "stdout",
     "output_type": "stream",
     "text": [
      "[0 1 2 3 4 5 6 7 8 9]\n",
      "[ 0  1  4  9 16 25 36 49 64 81]\n",
      "[0 1 2 3 4 5 6 7 8 9]\n"
     ]
    }
   ],
   "source": [
    "import numpy as np\n",
    "r = np.arange(0, 10)\n",
    "def func(r):\n",
    "    r = r**2\n",
    "    print(r)\n",
    "    return np.sin(r)\n",
    "print(r)\n",
    "func(r)\n",
    "print(r)"
   ]
  },
  {
   "cell_type": "code",
   "execution_count": 9,
   "metadata": {},
   "outputs": [
    {
     "name": "stdout",
     "output_type": "stream",
     "text": [
      "2.97 ms ± 3.45 µs per loop (mean ± std. dev. of 7 runs, 100 loops each)\n",
      "92.1 µs ± 124 ns per loop (mean ± std. dev. of 7 runs, 10,000 loops each)\n"
     ]
    }
   ],
   "source": [
    "a = np.pi*np.arange(100000)\n",
    "d = 5.12321234\n",
    "%timeit a%d\n",
    "# %timeit np.mod(a, d)\n",
    "# %timeit a - d*np.floor(a/d)\n",
    "# %timeit a - d*np.trunc(a/d)\n",
    "# %timeit np.remainder(a, d)\n",
    "%timeit a - d*np.round(a/d)\n"
   ]
  },
  {
   "cell_type": "code",
   "execution_count": null,
   "metadata": {},
   "outputs": [],
   "source": []
  }
 ],
 "metadata": {
  "kernelspec": {
   "display_name": "qim_coding_env",
   "language": "python",
   "name": "python3"
  },
  "language_info": {
   "codemirror_mode": {
    "name": "ipython",
    "version": 3
   },
   "file_extension": ".py",
   "mimetype": "text/x-python",
   "name": "python",
   "nbconvert_exporter": "python",
   "pygments_lexer": "ipython3",
   "version": "3.11.6"
  }
 },
 "nbformat": 4,
 "nbformat_minor": 2
}
