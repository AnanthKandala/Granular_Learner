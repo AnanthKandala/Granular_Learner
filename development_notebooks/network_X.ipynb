{
 "cells": [
  {
   "cell_type": "code",
   "execution_count": 1,
   "metadata": {},
   "outputs": [],
   "source": [
    "import networkx as nx\n",
    "import numpy as np"
   ]
  },
  {
   "cell_type": "code",
   "execution_count": 2,
   "metadata": {},
   "outputs": [],
   "source": [
    "import sys\n",
    "path_granular = '/orange/physics-dept/an.kandala/Biophysics_projeccts/granular_learner/granular_learner_ananth/granular_learner'\n",
    "#append to PATH\n",
    "sys.path.append(path_granular)\n",
    "from granular_learner import Granular_learner"
   ]
  },
  {
   "cell_type": "code",
   "execution_count": 3,
   "metadata": {},
   "outputs": [],
   "source": [
    "epsilon = 4\n",
    "r1 = 1\n",
    "r2 = 1.4*r1\n",
    "Lx = 30\n",
    "Ly = 15\n",
    "inner_radii = [r1, r2]\n",
    "prob = [0.4, 0.6]\n",
    "#place input boundary spheres:\n",
    "boundary_sphere_radius = 1\n",
    "boundary_sphere_gap = 0 # gap between boundary spheres \n",
    "n_spheres = 100\n",
    "learner = Granular_learner(Lx, Ly, inner_radii, boundary_sphere_radius, boundary_sphere_gap,epsilon)\n",
    "learner.initialize_(n_spheres, prob)"
   ]
  },
  {
   "cell_type": "code",
   "execution_count": 4,
   "metadata": {},
   "outputs": [
    {
     "name": "stdout",
     "output_type": "stream",
     "text": [
      "(0, 1, 2, 3, 4, 5, 6, 7, 8, 9)\n"
     ]
    }
   ],
   "source": [
    "print(tuple(np.arange(10)))"
   ]
  },
  {
   "cell_type": "code",
   "execution_count": 50,
   "metadata": {},
   "outputs": [],
   "source": [
    "#adjacency matrix:\n",
    "import networkx as nx\n",
    "G = nx.Graph()\n",
    "cut_offs = learner.inner_cutoffs\n",
    "inner_positions = learner.inner_spheres[:, :-1]\n",
    "pos = {i: tuple(inner_positions[i]) for i in range(len(inner_positions))}\n",
    "G.add_nodes_from(pos.keys())\n",
    "for n, p in pos.items():\n",
    "    G.nodes[n]['pos'] = p\n",
    "\n",
    "uti = np.triu_indices(len(inner_positions), k=1) #obtain unique indices of the inner sphere combinations\n",
    "r_diff_vec = inner_positions[uti[0]] - inner_positions[uti[1]] #calculate the difference in positions\n",
    "r_diff_vec[:, 1] = r_diff_vec[:, 1] + Ly*(r_diff_vec[:, 1] < -Ly/2) - Ly*(r_diff_vec[:, 1] > Ly/2) #periodic boundary conditions in the y direction\n",
    "epsilon = 2; alpha = 2\n",
    "r_diff = np.linalg.norm(r_diff_vec, axis = 1)\n",
    "neighbors = np.where(r_diff < cut_offs)\n",
    "#Add edges to the graph:\n",
    "for nb in neighbors[0]:\n",
    "    G.add_edge(uti[0][nb], uti[1][nb], edge = r_diff[nb])"
   ]
  },
  {
   "cell_type": "code",
   "execution_count": 53,
   "metadata": {},
   "outputs": [
    {
     "ename": "NameError",
     "evalue": "name 'obj' is not defined",
     "output_type": "error",
     "traceback": [
      "\u001b[0;31m---------------------------------------------------------------------------\u001b[0m",
      "\u001b[0;31mNameError\u001b[0m                                 Traceback (most recent call last)",
      "\u001b[1;32m/orange/physics-dept/an.kandala/Biophysics_projeccts/granular_learner/granular_learner_ananth/development_notebooks/network_X.ipynb Cell 6\u001b[0m line \u001b[0;36m6\n\u001b[1;32m      <a href='vscode-notebook-cell://ssh-remote%2Bhpg/orange/physics-dept/an.kandala/Biophysics_projeccts/granular_learner/granular_learner_ananth/development_notebooks/network_X.ipynb#W4sdnNjb2RlLXJlbW90ZQ%3D%3D?line=3'>4</a>\u001b[0m ax\u001b[39m.\u001b[39mset_yticks([])\n\u001b[1;32m      <a href='vscode-notebook-cell://ssh-remote%2Bhpg/orange/physics-dept/an.kandala/Biophysics_projeccts/granular_learner/granular_learner_ananth/development_notebooks/network_X.ipynb#W4sdnNjb2RlLXJlbW90ZQ%3D%3D?line=4'>5</a>\u001b[0m ax\u001b[39m.\u001b[39mset_aspect(\u001b[39m'\u001b[39m\u001b[39mequal\u001b[39m\u001b[39m'\u001b[39m, adjustable\u001b[39m=\u001b[39m\u001b[39m'\u001b[39m\u001b[39mbox\u001b[39m\u001b[39m'\u001b[39m)\n\u001b[0;32m----> <a href='vscode-notebook-cell://ssh-remote%2Bhpg/orange/physics-dept/an.kandala/Biophysics_projeccts/granular_learner/granular_learner_ananth/development_notebooks/network_X.ipynb#W4sdnNjb2RlLXJlbW90ZQ%3D%3D?line=5'>6</a>\u001b[0m ax\u001b[39m.\u001b[39mset_xlim(\u001b[39m0\u001b[39m, obj\u001b[39m.\u001b[39mLx)\n\u001b[1;32m      <a href='vscode-notebook-cell://ssh-remote%2Bhpg/orange/physics-dept/an.kandala/Biophysics_projeccts/granular_learner/granular_learner_ananth/development_notebooks/network_X.ipynb#W4sdnNjb2RlLXJlbW90ZQ%3D%3D?line=6'>7</a>\u001b[0m ax\u001b[39m.\u001b[39mset_ylim(\u001b[39m0\u001b[39m, obj\u001b[39m.\u001b[39mLy)\n\u001b[1;32m      <a href='vscode-notebook-cell://ssh-remote%2Bhpg/orange/physics-dept/an.kandala/Biophysics_projeccts/granular_learner/granular_learner_ananth/development_notebooks/network_X.ipynb#W4sdnNjb2RlLXJlbW90ZQ%3D%3D?line=7'>8</a>\u001b[0m ax\u001b[39m.\u001b[39mset_title(title)\n",
      "\u001b[0;31mNameError\u001b[0m: name 'obj' is not defined"
     ]
    },
    {
     "data": {
      "image/png": "[encoded data removed]",
      "text/plain": [
       "<Figure size 640x480 with 1 Axes>"
      ]
     },
     "metadata": {},
     "output_type": "display_data"
    }
   ],
   "source": []
  },
  {
   "cell_type": "code",
   "execution_count": null,
   "metadata": {},
   "outputs": [],
   "source": []
  }
 ],
 "metadata": {
  "kernelspec": {
   "display_name": "qim_coding_env",
   "language": "python",
   "name": "python3"
  },
  "language_info": {
   "codemirror_mode": {
    "name": "ipython",
    "version": 3
   },
   "file_extension": ".py",
   "mimetype": "text/x-python",
   "name": "python",
   "nbconvert_exporter": "python",
   "pygments_lexer": "ipython3",
   "version": "3.11.6"
  }
 },
 "nbformat": 4,
 "nbformat_minor": 2
}
