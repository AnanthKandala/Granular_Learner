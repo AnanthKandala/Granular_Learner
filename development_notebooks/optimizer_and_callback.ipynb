{
 "cells": [
  {
   "cell_type": "code",
   "execution_count": 1,
   "metadata": {},
   "outputs": [],
   "source": [
    "from defaults import *\n",
    "path_granular = '/orange/physics-dept/an.kandala/Biophysics_projeccts/granular_learner/granular_learner_ananth/granular_learner'\n",
    "#append to PATH\n",
    "sys.path.append(path_granular)"
   ]
  },
  {
   "cell_type": "code",
   "execution_count": 2,
   "metadata": {},
   "outputs": [
    {
     "name": "stdout",
     "output_type": "stream",
     "text": [
      "total_energy = 13.674234911770789\n"
     ]
    }
   ],
   "source": [
    "import sys\n",
    "path_granular = '/orange/physics-dept/an.kandala/Biophysics_projeccts/granular_learner/granular_learner_ananth/granular_learner'\n",
    "#append to PATH\n",
    "sys.path.append(path_granular)\n",
    "from granular_learner import Granular_learner\n",
    "\n",
    "#INITIALIZATION\n",
    "r1 = 1\n",
    "r2 = 1.4*r1\n",
    "Lx = 30\n",
    "Ly = 15\n",
    "inner_radii = [r1, r2]\n",
    "prob = [0.4, 0.6]\n",
    "#place input boundary spheres:\n",
    "boundary_sphere_radius = 1\n",
    "boundary_sphere_gap = 0 # gap between boundary spheres \n",
    "n_spheres = 50\n",
    "learner = Granular_learner(Lx, Ly, inner_radii, boundary_sphere_radius, boundary_sphere_gap)\n",
    "learner.initialize_(n_spheres, prob)\n",
    "\n",
    "#CALCULATE THE ENERGY\n",
    "total_energy = learner.learner_energy_()\n",
    "print(f'total_energy = {total_energy}')\n",
    "\n",
    "#Plot the spheres\n",
    "title = f'Energy function test, E = {total_energy}'\n",
    "outimage = 'test.png'\n",
    "learner.plot_box_(title, outimage)\n"
   ]
  },
  {
   "cell_type": "code",
   "execution_count": 6,
   "metadata": {},
   "outputs": [
    {
     "ename": "IndexError",
     "evalue": "too many indices for array: array is 1-dimensional, but 2 were indexed",
     "output_type": "error",
     "traceback": [
      "\u001b[0;31m---------------------------------------------------------------------------\u001b[0m",
      "\u001b[0;31mIndexError\u001b[0m                                Traceback (most recent call last)",
      "\u001b[1;32m/orange/physics-dept/an.kandala/Biophysics_projeccts/granular_learner/granular_learner_ananth/development_notebooks/optimizer_and_callback.ipynb Cell 3\u001b[0m line \u001b[0;36m7\n\u001b[1;32m      <a href='vscode-notebook-cell://ssh-remote%2Bhpg/orange/physics-dept/an.kandala/Biophysics_projeccts/granular_learner/granular_learner_ananth/development_notebooks/optimizer_and_callback.ipynb#W2sdnNjb2RlLXJlbW90ZQ%3D%3D?line=4'>5</a>\u001b[0m \u001b[39mfrom\u001b[39;00m \u001b[39menergy_function\u001b[39;00m \u001b[39mimport\u001b[39;00m total_energy_function\n\u001b[1;32m      <a href='vscode-notebook-cell://ssh-remote%2Bhpg/orange/physics-dept/an.kandala/Biophysics_projeccts/granular_learner/granular_learner_ananth/development_notebooks/optimizer_and_callback.ipynb#W2sdnNjb2RlLXJlbW90ZQ%3D%3D?line=5'>6</a>\u001b[0m obj_function \u001b[39m=\u001b[39m partial(total_energy_function, out_positions\u001b[39m=\u001b[39mlearner\u001b[39m.\u001b[39mboundary_spheres[:,\u001b[39m-\u001b[39m\u001b[39m1\u001b[39m], cut_offs\u001b[39m=\u001b[39mlearner\u001b[39m.\u001b[39minner_cutoffs, boundary_cutoffs\u001b[39m=\u001b[39mlearner\u001b[39m.\u001b[39mboundary_cutoffs, energy_function\u001b[39m=\u001b[39mlearner\u001b[39m.\u001b[39menergy_func, Ly\u001b[39m=\u001b[39mlearner\u001b[39m.\u001b[39mLy)\n\u001b[0;32m----> <a href='vscode-notebook-cell://ssh-remote%2Bhpg/orange/physics-dept/an.kandala/Biophysics_projeccts/granular_learner/granular_learner_ananth/development_notebooks/optimizer_and_callback.ipynb#W2sdnNjb2RlLXJlbW90ZQ%3D%3D?line=6'>7</a>\u001b[0m \u001b[39mprint\u001b[39m(obj_function(learner\u001b[39m.\u001b[39;49minner_spheres[:, \u001b[39m-\u001b[39;49m\u001b[39m1\u001b[39;49m]))\n",
      "File \u001b[0;32m/orange/physics-dept/an.kandala/Biophysics_projeccts/granular_learner/granular_learner_ananth/granular_learner/energy_function.py:16\u001b[0m, in \u001b[0;36mtotal_energy_function\u001b[0;34m(inner_positions, out_positions, cut_offs, boundary_cutoffs, energy_function, Ly)\u001b[0m\n\u001b[1;32m     14\u001b[0m uti \u001b[39m=\u001b[39m np\u001b[39m.\u001b[39mtriu_indices(\u001b[39mlen\u001b[39m(inner_positions), k\u001b[39m=\u001b[39m\u001b[39m1\u001b[39m) \u001b[39m#obtain unique indices of the inner sphere combinations\u001b[39;00m\n\u001b[1;32m     15\u001b[0m r_diff \u001b[39m=\u001b[39m inner_positions[uti[\u001b[39m0\u001b[39m]] \u001b[39m-\u001b[39m inner_positions[uti[\u001b[39m1\u001b[39m]] \u001b[39m#calculate the difference in positions\u001b[39;00m\n\u001b[0;32m---> 16\u001b[0m r_diff[:, \u001b[39m1\u001b[39m] \u001b[39m=\u001b[39m np\u001b[39m.\u001b[39mminimum(np\u001b[39m.\u001b[39mabs(r_diff[:, \u001b[39m1\u001b[39;49m]), np\u001b[39m.\u001b[39mabs(Ly \u001b[39m-\u001b[39m r_diff[:, \u001b[39m1\u001b[39m])) \u001b[39m#periodic boundary conditions in the y direction\u001b[39;00m\n\u001b[1;32m     17\u001b[0m r_diff \u001b[39m=\u001b[39m np\u001b[39m.\u001b[39mlinalg\u001b[39m.\u001b[39mnorm(r_diff, axis\u001b[39m=\u001b[39m\u001b[39m1\u001b[39m) \u001b[39m#calculate the distance between the inner spheres\u001b[39;00m\n\u001b[1;32m     19\u001b[0m bulk_energy \u001b[39m=\u001b[39m shortrange_energy(r_diff, cut_offs, energy_function) \u001b[39m#calculate the bulk energy\u001b[39;00m\n",
      "\u001b[0;31mIndexError\u001b[0m: too many indices for array: array is 1-dimensional, but 2 were indexed"
     ]
    }
   ],
   "source": [
    "#calculating the conditioning number for the energy function:\n",
    "# conditioning_number = ||J||/(|f|/|x|)\n",
    "from scipy.optimize import minimize\n",
    "from functools import partial\n",
    "from energy_function import total_energy_function\n",
    "obj_function = partial(total_energy_function, out_positions=learner.boundary_spheres[:,-1], cut_offs=learner.inner_cutoffs, boundary_cutoffs=learner.boundary_cutoffs, energy_function=learner.energy_func, Ly=learner.Ly)\n",
    "print(obj_function(learner.inner_spheres[:, -1]))\n",
    "\n",
    "\n"
   ]
  },
  {
   "cell_type": "code",
   "execution_count": 11,
   "metadata": {},
   "outputs": [
    {
     "ename": "ValueError",
     "evalue": "operands could not be broadcast together with shapes (20,) (10,2) ",
     "output_type": "error",
     "traceback": [
      "\u001b[0;31m---------------------------------------------------------------------------\u001b[0m",
      "\u001b[0;31mValueError\u001b[0m                                Traceback (most recent call last)",
      "\u001b[1;32m/orange/physics-dept/an.kandala/Biophysics_projeccts/granular_learner/granular_learner_ananth/development_notebooks/optimizer_and_callback.ipynb Cell 4\u001b[0m line \u001b[0;36m3\n\u001b[1;32m      <a href='vscode-notebook-cell://ssh-remote%2Bhpg/orange/physics-dept/an.kandala/Biophysics_projeccts/granular_learner/granular_learner_ananth/development_notebooks/optimizer_and_callback.ipynb#W3sdnNjb2RlLXJlbW90ZQ%3D%3D?line=0'>1</a>\u001b[0m a \u001b[39m=\u001b[39m np\u001b[39m.\u001b[39marange(\u001b[39m20\u001b[39m)\n\u001b[1;32m      <a href='vscode-notebook-cell://ssh-remote%2Bhpg/orange/physics-dept/an.kandala/Biophysics_projeccts/granular_learner/granular_learner_ananth/development_notebooks/optimizer_and_callback.ipynb#W3sdnNjb2RlLXJlbW90ZQ%3D%3D?line=1'>2</a>\u001b[0m b \u001b[39m=\u001b[39m a\u001b[39m.\u001b[39mflatten()\u001b[39m.\u001b[39mreshape(\u001b[39m-\u001b[39m\u001b[39m1\u001b[39m, \u001b[39m2\u001b[39m)\n\u001b[0;32m----> <a href='vscode-notebook-cell://ssh-remote%2Bhpg/orange/physics-dept/an.kandala/Biophysics_projeccts/granular_learner/granular_learner_ananth/development_notebooks/optimizer_and_callback.ipynb#W3sdnNjb2RlLXJlbW90ZQ%3D%3D?line=2'>3</a>\u001b[0m np\u001b[39m.\u001b[39;49misclose(a,b)\n",
      "File \u001b[0;32m~/.conda/envs/qim_coding_env/lib/python3.11/site-packages/numpy/core/numeric.py:2351\u001b[0m, in \u001b[0;36misclose\u001b[0;34m(a, b, rtol, atol, equal_nan)\u001b[0m\n\u001b[1;32m   2349\u001b[0m yfin \u001b[39m=\u001b[39m isfinite(y)\n\u001b[1;32m   2350\u001b[0m \u001b[39mif\u001b[39;00m \u001b[39mall\u001b[39m(xfin) \u001b[39mand\u001b[39;00m \u001b[39mall\u001b[39m(yfin):\n\u001b[0;32m-> 2351\u001b[0m     \u001b[39mreturn\u001b[39;00m within_tol(x, y, atol, rtol)\n\u001b[1;32m   2352\u001b[0m \u001b[39melse\u001b[39;00m:\n\u001b[1;32m   2353\u001b[0m     finite \u001b[39m=\u001b[39m xfin \u001b[39m&\u001b[39m yfin\n",
      "File \u001b[0;32m~/.conda/envs/qim_coding_env/lib/python3.11/site-packages/numpy/core/numeric.py:2332\u001b[0m, in \u001b[0;36misclose.<locals>.within_tol\u001b[0;34m(x, y, atol, rtol)\u001b[0m\n\u001b[1;32m   2330\u001b[0m \u001b[39mdef\u001b[39;00m \u001b[39mwithin_tol\u001b[39m(x, y, atol, rtol):\n\u001b[1;32m   2331\u001b[0m     \u001b[39mwith\u001b[39;00m errstate(invalid\u001b[39m=\u001b[39m\u001b[39m'\u001b[39m\u001b[39mignore\u001b[39m\u001b[39m'\u001b[39m), _no_nep50_warning():\n\u001b[0;32m-> 2332\u001b[0m         \u001b[39mreturn\u001b[39;00m less_equal(\u001b[39mabs\u001b[39m(x\u001b[39m-\u001b[39;49my), atol \u001b[39m+\u001b[39m rtol \u001b[39m*\u001b[39m \u001b[39mabs\u001b[39m(y))\n",
      "\u001b[0;31mValueError\u001b[0m: operands could not be broadcast together with shapes (20,) (10,2) "
     ]
    }
   ],
   "source": [
    "a = np.arange(20)\n",
    "b = a.flatten().reshape(-1, 2)\n",
    "np.isclose(a,b)"
   ]
  },
  {
   "cell_type": "code",
   "execution_count": 2,
   "metadata": {},
   "outputs": [
    {
     "name": "stdout",
     "output_type": "stream",
     "text": [
      "955 ns ± 3.06 ns per loop (mean ± std. dev. of 7 runs, 1,000,000 loops each)\n"
     ]
    }
   ],
   "source": [
    "import numpy as np\n",
    "array = np.arange(20)\n",
    "%timeit array%3"
   ]
  },
  {
   "cell_type": "code",
   "execution_count": null,
   "metadata": {},
   "outputs": [],
   "source": []
  }
 ],
 "metadata": {
  "kernelspec": {
   "display_name": "qim_coding_env",
   "language": "python",
   "name": "python3"
  },
  "language_info": {
   "codemirror_mode": {
    "name": "ipython",
    "version": 3
   },
   "file_extension": ".py",
   "mimetype": "text/x-python",
   "name": "python",
   "nbconvert_exporter": "python",
   "pygments_lexer": "ipython3",
   "version": "3.11.6"
  }
 },
 "nbformat": 4,
 "nbformat_minor": 2
}
