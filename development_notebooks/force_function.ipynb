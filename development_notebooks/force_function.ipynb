{
 "cells": [
  {
   "cell_type": "code",
   "execution_count": null,
   "metadata": {},
   "outputs": [],
   "source": [
    "from defaults import *\n",
    "from matplotlib.colors import to_rgba"
   ]
  },
  {
   "cell_type": "code",
   "execution_count": null,
   "metadata": {},
   "outputs": [],
   "source": [
    "import sys\n",
    "path_granular = '/orange/physics-dept/an.kandala/Biophysics_projeccts/granular_learner/granular_learner_ananth/granular_learner'\n",
    "#append to PATH\n",
    "sys.path.append(path_granular)\n",
    "from granular_learner import Granular_learner\n",
    "from helper_funcs import wrapper"
   ]
  },
  {
   "cell_type": "code",
   "execution_count": null,
   "metadata": {},
   "outputs": [],
   "source": [
    "#INITIALIZATION\n",
    "epsilon = 4\n",
    "r1 = 1\n",
    "r2 = 1.4*r1\n",
    "Lx = 30\n",
    "Ly = 15\n",
    "inner_radii = [r1, r2]\n",
    "prob = [0.4, 0.6]\n",
    "#place input boundary spheres:\n",
    "boundary_sphere_radius = 1\n",
    "boundary_sphere_gap = 0 # gap between boundary spheres \n",
    "n_spheres = 100\n",
    "learner = Granular_learner(Lx, Ly, inner_radii, boundary_sphere_radius, boundary_sphere_gap,epsilon)\n",
    "learner.initialize_(n_spheres, prob)"
   ]
  },
  {
   "cell_type": "code",
   "execution_count": null,
   "metadata": {},
   "outputs": [],
   "source": [
    "def force_func(rdiff_vec, cut_off, epsilon, alpha, sigma):\n",
    "    rdiff = np.linalg.norm(rdiff_vec, axis = 1)\n",
    "    force = (-epsilon/cut_off)*(1 - rdiff/cut_off)**(alpha-1)*(r_diff_vec/rdiff)\n",
    "    return "
   ]
  },
  {
   "cell_type": "code",
   "execution_count": null,
   "metadata": {},
   "outputs": [],
   "source": [
    "inner_positions = learner.inner_spheres[:, :-1]\n",
    "cut_offs = learner.inner_cutoffs\n",
    "inner_positions[:, 1] = wrapper(inner_positions[:, 1], Ly) #periodic boundary conditions in the y direction\n",
    "#calculate the bulk energy:\n",
    "uti = np.triu_indices(len(inner_positions), k=1) #obtain unique indices of the inner sphere combinations\n",
    "r_diff_vec = inner_positions[uti[0]] - inner_positions[uti[1]] #calculate the difference in positions\n",
    "r_diff_vec[:, 1] = r_diff_vec[:, 1] + Ly*(r_diff_vec[:, 1] < -Ly/2) - Ly*(r_diff_vec[:, 1] > Ly/2) #shortest distance in the y direction\n",
    "epsilon = 2; alpha = 2\n",
    "print(r_diff_vec)\n",
    "r_diff = np.linalg.norm(r_diff_vec, axis = 1)\n",
    "print(r_diff)\n",
    "neighbors = np.where(r_diff < cut_offs)[0]\n",
    "r_diff = r_diff[neighbors]; r_diff_vec = r_diff_vec[neighbors]; cut_offs = cut_offs[neighbors] #selecting only the neighbors\n",
    "force_magnitudes = (epsilon/cut_offs)*(1 - r_diff/cut_offs)**(alpha-1)\n",
    "force_directions = -r_diff_vec/r_diff[:, None]\n",
    "forces = force_magnitudes[:, None]*force_directions\n",
    "f = np.column_stack((neighbors, forces))\n",
    "print(f)"
   ]
  },
  {
   "cell_type": "code",
   "execution_count": null,
   "metadata": {},
   "outputs": [],
   "source": [
    "print(learner.boundary_cutoffs.shape)"
   ]
  },
  {
   "cell_type": "code",
   "execution_count": 61,
   "metadata": {},
   "outputs": [
    {
     "name": "stdout",
     "output_type": "stream",
     "text": [
      "(200, 16)\n",
      "[[ 6.00000000e+00  1.10000000e+01  9.57912447e-02 -1.36844635e-02]\n",
      " [ 1.00000000e+01  1.30000000e+01  2.86402066e-02 -6.49178016e-02]\n",
      " [ 1.00000000e+01  1.40000000e+01  5.53476691e-01  2.21390676e-01]\n",
      " [ 1.30000000e+01  1.20000000e+01  9.28282699e-02  1.54713783e-02]\n",
      " [ 1.40000000e+01  1.20000000e+01  2.25000000e-01 -3.00000000e-01]\n",
      " [ 1.40000000e+01  1.30000000e+01  2.25000000e-01  3.00000000e-01]\n",
      " [ 1.50000000e+01  5.00000000e+00 -4.82004672e-01 -1.87446261e-01]\n",
      " [ 1.50000000e+01  6.00000000e+00 -2.88521307e-02  5.28955729e-02]\n",
      " [ 1.80000000e+01  1.00000000e+01  2.55953574e-01 -3.24207860e-01]\n",
      " [ 1.80000000e+01  1.10000000e+01  2.23948495e-01  3.13527893e-01]\n",
      " [ 1.90000000e+01  4.00000000e+00 -2.44970610e-01 -2.72189566e-01]\n",
      " [ 1.90000000e+01  5.00000000e+00 -2.44970610e-01  2.72189566e-01]\n",
      " [ 3.10000000e+01  9.00000000e+00  9.83235618e-02 -1.17051859e-02]\n",
      " [ 4.50000000e+01  2.00000000e+00 -3.92187565e-02  6.97222338e-03]\n",
      " [ 5.00000000e+01  0.00000000e+00 -3.67151479e-02  7.95494871e-02]\n",
      " [ 5.00000000e+01  6.00000000e+00 -2.29826145e-01 -2.68130502e-01]\n",
      " [ 5.00000000e+01  7.00000000e+00 -2.60620540e-01  2.75099459e-01]\n",
      " [ 7.90000000e+01  0.00000000e+00 -2.57106781e-01 -2.57106781e-01]\n",
      " [ 7.90000000e+01  1.00000000e+00 -1.83237790e-01  2.23957299e-01]\n",
      " [ 8.90000000e+01  1.20000000e+01  2.32170990e-02 -1.10557614e-02]\n",
      " [ 8.90000000e+01  1.30000000e+01  2.32170990e-02  1.10557614e-02]\n",
      " [ 9.10000000e+01  9.00000000e+00  4.94338762e-02 -1.05458936e-01]\n",
      " [ 9.10000000e+01  1.00000000e+01  5.07352941e-01  2.70588235e-01]\n",
      " [ 1.11000000e+02  1.30000000e+01  4.94735950e-01 -2.30876777e-01]\n",
      " [ 1.11000000e+02  1.40000000e+01  8.44191203e-02  1.85722065e-01]\n",
      " [ 1.17000000e+02  8.00000000e+00  2.73070333e-01 -3.27684400e-01]\n",
      " [ 1.17000000e+02  9.00000000e+00  2.09030687e-01  3.06578341e-01]\n",
      " [ 1.17000000e+02  1.50000000e+01  4.55554456e-02 -1.15407129e-01]\n",
      " [ 1.20000000e+02  1.40000000e+01  2.06238194e-01 -2.88733471e-01]\n",
      " [ 1.20000000e+02  1.50000000e+01  2.44644289e-01  3.09882766e-01]\n",
      " [ 1.33000000e+02  5.00000000e+00 -1.78877204e-02 -3.37879163e-02]\n",
      " [ 1.33000000e+02  6.00000000e+00 -4.98683298e-01  1.66227766e-01]\n",
      " [ 1.34000000e+02  0.00000000e+00 -2.39457830e-02  6.38554213e-03]\n",
      " [ 1.34000000e+02  7.00000000e+00 -3.92187565e-02 -6.97222338e-03]\n",
      " [ 1.35000000e+02  0.00000000e+00 -3.82050294e-01  2.54700196e-01]\n",
      " [ 1.35000000e+02  7.00000000e+00 -4.63811549e-01 -2.06138466e-01]\n",
      " [ 1.36000000e+02  6.00000000e+00 -4.47732506e-02  5.96976674e-03]\n",
      " [ 1.41000000e+02  3.00000000e+00 -4.98683298e-01 -1.66227766e-01]\n",
      " [ 1.41000000e+02  4.00000000e+00 -1.78877204e-02  3.37879163e-02]\n",
      " [ 1.49000000e+02  1.10000000e+01  3.88029443e-02 -8.53664775e-02]\n",
      " [ 1.49000000e+02  1.20000000e+01  5.31183140e-01  2.47885465e-01]\n",
      " [ 1.51000000e+02  1.00000000e+00 -4.02612396e-02 -7.15755371e-02]\n",
      " [ 1.51000000e+02  2.00000000e+00 -4.63811549e-01  2.06138466e-01]\n",
      " [ 1.58000000e+02  1.00000000e+00 -4.90431591e-01 -1.36230998e-01]\n",
      " [ 1.58000000e+02  2.00000000e+00 -6.86233439e-02  1.33434280e-01]\n",
      " [ 1.62000000e+02  3.00000000e+00 -8.65434422e-02 -1.58662977e-01]\n",
      " [ 1.62000000e+02  4.00000000e+00 -4.64170560e-01  1.80510773e-01]\n",
      " [ 1.71000000e+02  8.00000000e+00  3.90307341e-01  3.12245873e-01]\n",
      " [ 1.71000000e+02  1.50000000e+01  4.74877451e-01 -2.53267974e-01]\n",
      " [ 1.73000000e+02  3.00000000e+00 -4.47732506e-02 -5.96976674e-03]\n",
      " [ 1.89000000e+02  1.30000000e+01  9.28282699e-02 -1.54713783e-02]]\n"
     ]
    }
   ],
   "source": [
    "#Calculate forces between the inner spheres and the boundary spheres:\n",
    "boundary_positions = learner.boundary_spheres[:, :-1]\n",
    "boundary_cutoffs = learner.boundary_cutoffs\n",
    "r_diff_vec = inner_positions[:, np.newaxis, :] - boundary_positions[np.newaxis, :, :] #calculate the difference in positions between inner and boundary spheres\n",
    "#r_diff_vec.shape = (inner_spheres, boundary_spheres, 2)\n",
    "r_diff_vec[:, :, 1] = r_diff_vec[:, :, 1] + Ly*(r_diff_vec[:, :, 1] < -Ly/2) - Ly*(r_diff_vec[:, :, 1] > Ly/2) #calculate the shortest distance in the y direction\n",
    "r_diff = np.linalg.norm(r_diff_vec, axis = 2) #calculate the distance between the inner and boundary spheres\n",
    "print(r_diff.shape)\n",
    "neighbors = np.where(r_diff < boundary_cutoffs) #selecting the neighbors\n",
    "r_diff = r_diff[neighbors]; r_diff_vec = r_diff_vec[neighbors]; boundary_cutoffs = boundary_cutoffs[neighbors] #selecting only the neighbors\n",
    "#r_diff, boundary_cutoffs are now 1d arrays with len=num of neighbors| r_diff_vec is a 2d array \n",
    "force_magnitudes = (epsilon/boundary_cutoffs)*(1 - r_diff/ boundary_cutoffs)**(alpha-1)\n",
    "force_directions = -r_diff_vec/r_diff[:, None]\n",
    "forces = force_magnitudes[:, None]*force_directions\n",
    "f = np.column_stack((neighbors[0], neighbors[1], forces))\n",
    "print(f)\n"
   ]
  },
  {
   "cell_type": "code",
   "execution_count": null,
   "metadata": {},
   "outputs": [],
   "source": [
    "array1 = np.array([[1, 2, 3], [4, 5, 6], [7, 8, 9]])\n",
    "array2 = np.array([[0, 2, 3], [4, 1, 6], [7, 8, 2]])\n",
    "cond = np.where(array1 > array2)\n",
    "print(cond)"
   ]
  },
  {
   "cell_type": "code",
   "execution_count": null,
   "metadata": {
    "notebookRunGroups": {
     "groupValue": "1"
    }
   },
   "outputs": [],
   "source": [
    "#select two points at random between ([0, Lx], [0, Ly])\n",
    "num_points = 4\n",
    "points = np.column_stack((np.random.uniform(0, Lx, num_points), np.random.uniform(0, Ly, num_points)))\n",
    "uti = np.triu_indices(num_points, k=1)\n",
    "r_diff = points[uti[1]] - points[uti[0]]\n",
    "r_diff[:, 1] = r_diff[:, 1] + Ly*(r_diff[:, 1] < -Ly/2) - Ly*(r_diff[:, 1] > Ly/2)\n",
    "print(Ly*(r_diff[:, 1] < -Ly/2))\n",
    "# print(r_diff)\n",
    "r_diff_norm = np.linalg.norm(r_diff, axis = 1)\n",
    "r_diff_unit_vecs = r_diff/r_diff_norm[:, None]\n",
    "# print(r_diff_unit_vecs)\n",
    "\n",
    "\n",
    "# #plot rdiff\n",
    "# ax.plot([points[0, 0], points[0, 0] + r_diff[0]], [points[0, 1], points[0, 1] + r_diff[1]], '-o', lw=1, color='red')\n"
   ]
  },
  {
   "cell_type": "code",
   "execution_count": null,
   "metadata": {},
   "outputs": [],
   "source": [
    "fig, ax = plt.subplots(dpi=300)\n",
    "ax.set_xticks([]) #remove axes\n",
    "ax.set_yticks([])\n",
    "ax.set_aspect('equal', adjustable='box')\n",
    "ax.set_xlim(0, Lx)\n",
    "ax.set_ylim(0, Ly)\n",
    "#generate num_points colors:\n",
    "colors = {i: to_rgba(f\"C{i}\") for i in range(num_points)}\n",
    "for i in range(num_points):\n",
    "    ax.plot(points[i, 0], points[i, 1], 'o', color=colors[i])\n",
    "ax.plot(points[:, 0], points[:, 1], '-', color='black', lw=0.1)\n",
    "for ll, r in enumerate(r_diff_unit_vecs):\n",
    "    [x_start, y_start] = points[uti[0][ll]] \n",
    "    [dx, dy] = -r\n",
    "    color = colors[uti[1][ll]]\n",
    "    ax.arrow(x_start, y_start, dx, dy, head_width=0.05, head_length=0.1, fc=color, ec=color)\n",
    "    [x_start, y_start] = points[uti[1][ll]] \n",
    "    [dx, dy] = r\n",
    "    color = colors[uti[0][ll]]\n",
    "    ax.arrow(x_start, y_start, dx, dy, head_width=0.05, head_length=0.1, fc=color, ec=color)\n",
    "fig.savefig('test_forces.png')"
   ]
  },
  {
   "cell_type": "code",
   "execution_count": null,
   "metadata": {},
   "outputs": [],
   "source": [
    "unit_vectors = r_diff/np.linalg.norm(r_diff, axis = 1)[:, None]"
   ]
  },
  {
   "cell_type": "code",
   "execution_count": null,
   "metadata": {},
   "outputs": [],
   "source": [
    "# Example 2D array\n",
    "array_2d = np.array([[1, 2, 3],\n",
    "                     [4, 5, 6],\n",
    "                     [7, 8, 9]])\n",
    "\n",
    "# Example 1D array\n",
    "array_1d = np.array([2, 3, 4])\n",
    "\n",
    "# Divide each row of the 2D array by the corresponding entry of the 1D array\n",
    "result_array = array_2d / array_1d[:, None]\n",
    "\n",
    "print(\"Original 2D array:\")\n",
    "print(array_2d)\n",
    "\n",
    "print(\"\\nOriginal 1D array:\")\n",
    "print(array_1d)\n",
    "\n",
    "print(\"\\nResulting array:\")\n",
    "print(result_array)"
   ]
  }
 ],
 "metadata": {
  "kernelspec": {
   "display_name": "qim_coding_env",
   "language": "python",
   "name": "python3"
  },
  "language_info": {
   "codemirror_mode": {
    "name": "ipython",
    "version": 3
   },
   "file_extension": ".py",
   "mimetype": "text/x-python",
   "name": "python",
   "nbconvert_exporter": "python",
   "pygments_lexer": "ipython3",
   "version": "3.11.6"
  }
 },
 "nbformat": 4,
 "nbformat_minor": 2
}
